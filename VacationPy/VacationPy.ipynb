{
 "cells": [
  {
   "cell_type": "markdown",
   "metadata": {},
   "source": [
    "# VacationPy\n",
    "----\n",
    "\n",
    "#### Note\n",
    "* Keep an eye on your API usage. Use https://developers.google.com/maps/reporting/gmp-reporting as reference for how to monitor your usage and billing.\n",
    "\n",
    "* Instructions have been included for each segment. You do not have to follow them exactly, but they are included to help you think through the steps."
   ]
  },
  {
   "cell_type": "code",
   "execution_count": 1,
   "metadata": {},
   "outputs": [],
   "source": [
    "# Dependencies\n",
    "import gmaps\n",
    "import pandas as pd\n",
    "from matplotlib import pyplot as plt\n",
    "import pandas as pd\n",
    "import scipy.stats as st\n",
    "import numpy as np\n",
    "from scipy.stats import linregress\n",
    "import requests\n",
    "from citipy import citipy\n",
    "import time\n",
    "import os\n",
    "from datetime import datetime\n",
    "from area import area\n",
    "\n",
    "from config import gkey\n",
    "gmaps.configure(api_key=gkey)\n",
    "from config import weather_api_key"
   ]
  },
  {
   "cell_type": "markdown",
   "metadata": {},
   "source": [
    "### Store Part I results into DataFrame\n",
    "* Load the csv exported in Part I to a DataFrame"
   ]
  },
  {
   "cell_type": "code",
   "execution_count": 2,
   "metadata": {},
   "outputs": [
    {
     "output_type": "execute_result",
     "data": {
      "text/plain": "   Unnamed: 0        City Country    Lat    Long  Max Temp  Humidity  \\\n0           0     shimoda      JP  34.67  138.95     73.00        96   \n1           1  georgetown      MY   5.41  100.34     80.60        83   \n2           2      albany      US  42.60  -73.97     78.01        40   \n3           3  sao filipe      IN  20.51   76.21     77.41        80   \n4           4   jamestown      US  42.10  -79.24     73.00        52   \n\n   Cloudiness  Wind Speed        Date  \n0          89        9.26  1599419377  \n1          20        1.01  1599419120  \n2          18        1.16  1599419378  \n3           4        1.97  1599419378  \n4           1        2.13  1599419079  ",
      "text/html": "<div>\n<style scoped>\n    .dataframe tbody tr th:only-of-type {\n        vertical-align: middle;\n    }\n\n    .dataframe tbody tr th {\n        vertical-align: top;\n    }\n\n    .dataframe thead th {\n        text-align: right;\n    }\n</style>\n<table border=\"1\" class=\"dataframe\">\n  <thead>\n    <tr style=\"text-align: right;\">\n      <th></th>\n      <th>Unnamed: 0</th>\n      <th>City</th>\n      <th>Country</th>\n      <th>Lat</th>\n      <th>Long</th>\n      <th>Max Temp</th>\n      <th>Humidity</th>\n      <th>Cloudiness</th>\n      <th>Wind Speed</th>\n      <th>Date</th>\n    </tr>\n  </thead>\n  <tbody>\n    <tr>\n      <th>0</th>\n      <td>0</td>\n      <td>shimoda</td>\n      <td>JP</td>\n      <td>34.67</td>\n      <td>138.95</td>\n      <td>73.00</td>\n      <td>96</td>\n      <td>89</td>\n      <td>9.26</td>\n      <td>1599419377</td>\n    </tr>\n    <tr>\n      <th>1</th>\n      <td>1</td>\n      <td>georgetown</td>\n      <td>MY</td>\n      <td>5.41</td>\n      <td>100.34</td>\n      <td>80.60</td>\n      <td>83</td>\n      <td>20</td>\n      <td>1.01</td>\n      <td>1599419120</td>\n    </tr>\n    <tr>\n      <th>2</th>\n      <td>2</td>\n      <td>albany</td>\n      <td>US</td>\n      <td>42.60</td>\n      <td>-73.97</td>\n      <td>78.01</td>\n      <td>40</td>\n      <td>18</td>\n      <td>1.16</td>\n      <td>1599419378</td>\n    </tr>\n    <tr>\n      <th>3</th>\n      <td>3</td>\n      <td>sao filipe</td>\n      <td>IN</td>\n      <td>20.51</td>\n      <td>76.21</td>\n      <td>77.41</td>\n      <td>80</td>\n      <td>4</td>\n      <td>1.97</td>\n      <td>1599419378</td>\n    </tr>\n    <tr>\n      <th>4</th>\n      <td>4</td>\n      <td>jamestown</td>\n      <td>US</td>\n      <td>42.10</td>\n      <td>-79.24</td>\n      <td>73.00</td>\n      <td>52</td>\n      <td>1</td>\n      <td>2.13</td>\n      <td>1599419079</td>\n    </tr>\n  </tbody>\n</table>\n</div>"
     },
     "metadata": {},
     "execution_count": 2
    }
   ],
   "source": [
    "weather_csv = \"../output_data/weather_df.csv\"\n",
    "weather_df = pd.read_csv(weather_csv)\n",
    "weather_df.head()"
   ]
  },
  {
   "cell_type": "markdown",
   "metadata": {},
   "source": [
    "### Humidity Heatmap\n",
    "* Configure gmaps.\n",
    "* Use the Lat and Lng as locations and Humidity as the weight.\n",
    "* Add Heatmap layer to map."
   ]
  },
  {
   "cell_type": "code",
   "execution_count": 3,
   "metadata": {},
   "outputs": [],
   "source": [
    "# store values\n",
    "locations = weather_df[[\"Lat\", \"Long\"]]\n",
    "humidity = weather_df[\"Humidity\"].astype(float)"
   ]
  },
  {
   "cell_type": "code",
   "execution_count": 5,
   "metadata": {},
   "outputs": [
    {
     "output_type": "display_data",
     "data": {
      "text/plain": "Figure(layout=FigureLayout(height='600px', margin='0 auto 0 auto', width='800px'))",
      "application/vnd.jupyter.widget-view+json": {
       "version_major": 2,
       "version_minor": 0,
       "model_id": "a681b0c558a34aeaacfc49b770d4dec5"
      }
     },
     "metadata": {}
    }
   ],
   "source": [
    "# plot heatmap\n",
    "figure_layout = {\n",
    "    'width': '800px',\n",
    "    'height': '600px',\n",
    "    'margin': '0 auto 0 auto'\n",
    "}\n",
    "fig = gmaps.figure(layout=figure_layout,zoom_level=1.55,center=(15,50))\n",
    "# create layer\n",
    "heat_layer = gmaps.heatmap_layer(locations, weights=humidity, dissipating=False, max_intensity=100, point_radius=5)\n",
    "\n",
    "#add layer to map\n",
    "fig.add_layer(heat_layer)\n",
    "\n",
    "#display\n",
    "fig"
   ]
  },
  {
   "cell_type": "markdown",
   "metadata": {},
   "source": [
    "### Create new DataFrame fitting weather criteria\n",
    "* Narrow down the cities to fit weather conditions.\n",
    "* Drop any rows will null values."
   ]
  },
  {
   "cell_type": "code",
   "execution_count": 4,
   "metadata": {},
   "outputs": [],
   "source": [
    "ideal_df = weather_df.loc[(weather_df[\"Max Temp\"] > 65) & (weather_df['Max Temp'] < 77) & (weather_df[\"Cloudiness\"] == 0) & (weather_df['Humidity'] < 50) &(weather_df['Wind Speed'] < 15), :]"
   ]
  },
  {
   "cell_type": "code",
   "execution_count": 5,
   "metadata": {},
   "outputs": [],
   "source": [
    "ideal_df = ideal_df.dropna(how = 'any')"
   ]
  },
  {
   "cell_type": "code",
   "execution_count": 6,
   "metadata": {},
   "outputs": [
    {
     "output_type": "execute_result",
     "data": {
      "text/plain": "   index  Unnamed: 0       City Country    Lat    Long  Max Temp  Humidity  \\\n0    153         153     kalabo      ZM -14.97   22.68     69.80        23   \n1    435         435    zambezi      ZM -13.54   23.10     71.58        22   \n2    446         446   baherden      TM  38.44   57.43     76.46        18   \n3    494         494    birjand      IR  32.87   59.22     69.80        19   \n4    497         497  katherine      AU -14.47  132.27     66.20        45   \n\n   Cloudiness  Wind Speed        Date  \n0           0        5.30  1599419416  \n1           0        8.95  1599419484  \n2           0        9.66  1599419486  \n3           0        6.93  1599419499  \n4           0        5.82  1599419499  ",
      "text/html": "<div>\n<style scoped>\n    .dataframe tbody tr th:only-of-type {\n        vertical-align: middle;\n    }\n\n    .dataframe tbody tr th {\n        vertical-align: top;\n    }\n\n    .dataframe thead th {\n        text-align: right;\n    }\n</style>\n<table border=\"1\" class=\"dataframe\">\n  <thead>\n    <tr style=\"text-align: right;\">\n      <th></th>\n      <th>index</th>\n      <th>Unnamed: 0</th>\n      <th>City</th>\n      <th>Country</th>\n      <th>Lat</th>\n      <th>Long</th>\n      <th>Max Temp</th>\n      <th>Humidity</th>\n      <th>Cloudiness</th>\n      <th>Wind Speed</th>\n      <th>Date</th>\n    </tr>\n  </thead>\n  <tbody>\n    <tr>\n      <th>0</th>\n      <td>153</td>\n      <td>153</td>\n      <td>kalabo</td>\n      <td>ZM</td>\n      <td>-14.97</td>\n      <td>22.68</td>\n      <td>69.80</td>\n      <td>23</td>\n      <td>0</td>\n      <td>5.30</td>\n      <td>1599419416</td>\n    </tr>\n    <tr>\n      <th>1</th>\n      <td>435</td>\n      <td>435</td>\n      <td>zambezi</td>\n      <td>ZM</td>\n      <td>-13.54</td>\n      <td>23.10</td>\n      <td>71.58</td>\n      <td>22</td>\n      <td>0</td>\n      <td>8.95</td>\n      <td>1599419484</td>\n    </tr>\n    <tr>\n      <th>2</th>\n      <td>446</td>\n      <td>446</td>\n      <td>baherden</td>\n      <td>TM</td>\n      <td>38.44</td>\n      <td>57.43</td>\n      <td>76.46</td>\n      <td>18</td>\n      <td>0</td>\n      <td>9.66</td>\n      <td>1599419486</td>\n    </tr>\n    <tr>\n      <th>3</th>\n      <td>494</td>\n      <td>494</td>\n      <td>birjand</td>\n      <td>IR</td>\n      <td>32.87</td>\n      <td>59.22</td>\n      <td>69.80</td>\n      <td>19</td>\n      <td>0</td>\n      <td>6.93</td>\n      <td>1599419499</td>\n    </tr>\n    <tr>\n      <th>4</th>\n      <td>497</td>\n      <td>497</td>\n      <td>katherine</td>\n      <td>AU</td>\n      <td>-14.47</td>\n      <td>132.27</td>\n      <td>66.20</td>\n      <td>45</td>\n      <td>0</td>\n      <td>5.82</td>\n      <td>1599419499</td>\n    </tr>\n  </tbody>\n</table>\n</div>"
     },
     "metadata": {},
     "execution_count": 6
    }
   ],
   "source": [
    "ideal_df.reset_index(inplace=True)\n",
    "ideal_df.head()"
   ]
  },
  {
   "cell_type": "code",
   "execution_count": 7,
   "metadata": {
    "tags": []
   },
   "outputs": [
    {
     "output_type": "stream",
     "name": "stdout",
     "text": "45\n"
    }
   ],
   "source": [
    "print(ideal_df['Humidity'].max())"
   ]
  },
  {
   "cell_type": "markdown",
   "metadata": {},
   "source": [
    "### Hotel Map\n",
    "* Store into variable named `hotel_df`.\n",
    "* Add a \"Hotel Name\" column to the DataFrame.\n",
    "* Set parameters to search for hotels with 5000 meters.\n",
    "* Hit the Google Places API for each city's coordinates.\n",
    "* Store the first Hotel result into the DataFrame.\n",
    "* Plot markers on top of the heatmap."
   ]
  },
  {
   "cell_type": "code",
   "execution_count": 10,
   "metadata": {},
   "outputs": [
    {
     "output_type": "execute_result",
     "data": {
      "text/plain": "   index  Unnamed: 0       City Country    Lat    Long  Max Temp  Humidity  \\\n0    153         153     kalabo      ZM -14.97   22.68     69.80        23   \n1    435         435    zambezi      ZM -13.54   23.10     71.58        22   \n2    446         446   baherden      TM  38.44   57.43     76.46        18   \n3    494         494    birjand      IR  32.87   59.22     69.80        19   \n4    497         497  katherine      AU -14.47  132.27     66.20        45   \n\n   Cloudiness  Wind Speed        Date Hotel Name  \n0           0        5.30  1599419416             \n1           0        8.95  1599419484             \n2           0        9.66  1599419486             \n3           0        6.93  1599419499             \n4           0        5.82  1599419499             ",
      "text/html": "<div>\n<style scoped>\n    .dataframe tbody tr th:only-of-type {\n        vertical-align: middle;\n    }\n\n    .dataframe tbody tr th {\n        vertical-align: top;\n    }\n\n    .dataframe thead th {\n        text-align: right;\n    }\n</style>\n<table border=\"1\" class=\"dataframe\">\n  <thead>\n    <tr style=\"text-align: right;\">\n      <th></th>\n      <th>index</th>\n      <th>Unnamed: 0</th>\n      <th>City</th>\n      <th>Country</th>\n      <th>Lat</th>\n      <th>Long</th>\n      <th>Max Temp</th>\n      <th>Humidity</th>\n      <th>Cloudiness</th>\n      <th>Wind Speed</th>\n      <th>Date</th>\n      <th>Hotel Name</th>\n    </tr>\n  </thead>\n  <tbody>\n    <tr>\n      <th>0</th>\n      <td>153</td>\n      <td>153</td>\n      <td>kalabo</td>\n      <td>ZM</td>\n      <td>-14.97</td>\n      <td>22.68</td>\n      <td>69.80</td>\n      <td>23</td>\n      <td>0</td>\n      <td>5.30</td>\n      <td>1599419416</td>\n      <td></td>\n    </tr>\n    <tr>\n      <th>1</th>\n      <td>435</td>\n      <td>435</td>\n      <td>zambezi</td>\n      <td>ZM</td>\n      <td>-13.54</td>\n      <td>23.10</td>\n      <td>71.58</td>\n      <td>22</td>\n      <td>0</td>\n      <td>8.95</td>\n      <td>1599419484</td>\n      <td></td>\n    </tr>\n    <tr>\n      <th>2</th>\n      <td>446</td>\n      <td>446</td>\n      <td>baherden</td>\n      <td>TM</td>\n      <td>38.44</td>\n      <td>57.43</td>\n      <td>76.46</td>\n      <td>18</td>\n      <td>0</td>\n      <td>9.66</td>\n      <td>1599419486</td>\n      <td></td>\n    </tr>\n    <tr>\n      <th>3</th>\n      <td>494</td>\n      <td>494</td>\n      <td>birjand</td>\n      <td>IR</td>\n      <td>32.87</td>\n      <td>59.22</td>\n      <td>69.80</td>\n      <td>19</td>\n      <td>0</td>\n      <td>6.93</td>\n      <td>1599419499</td>\n      <td></td>\n    </tr>\n    <tr>\n      <th>4</th>\n      <td>497</td>\n      <td>497</td>\n      <td>katherine</td>\n      <td>AU</td>\n      <td>-14.47</td>\n      <td>132.27</td>\n      <td>66.20</td>\n      <td>45</td>\n      <td>0</td>\n      <td>5.82</td>\n      <td>1599419499</td>\n      <td></td>\n    </tr>\n  </tbody>\n</table>\n</div>"
     },
     "metadata": {},
     "execution_count": 10
    }
   ],
   "source": [
    "#create df to hold info\n",
    "hotel_df = ideal_df\n",
    "hotel_df['Hotel Name'] = \"\"\n",
    "hotel_df.head()"
   ]
  },
  {
   "cell_type": "code",
   "execution_count": 11,
   "metadata": {
    "tags": []
   },
   "outputs": [
    {
     "output_type": "stream",
     "name": "stdout",
     "text": "No hotels here...skipping city\n"
    }
   ],
   "source": [
    "# parameters\n",
    "params = {\n",
    "    \"radius\": 5000,\n",
    "    \"types\": \"lodging\",\n",
    "    \"keyword\": \"Hotel\",\n",
    "    \"key\": gkey\n",
    "}\n",
    "\n",
    "for index, row in hotel_df.iterrows():\n",
    "    # get lat, lng from hotel_df\n",
    "    lat = row[\"Lat\"]\n",
    "    lng = row[\"Long\"]\n",
    "\n",
    "    # change location each iteration while leaving original params in place\n",
    "    params[\"location\"] = f\"{lat},{lng}\"\n",
    "\n",
    "    # Use the search term: \"Hotel\" and our lat/lng\n",
    "    base_url = \"https://maps.googleapis.com/maps/api/place/nearbysearch/json\"\n",
    "\n",
    "    # make request and print url\n",
    "    hotel_loc = (requests.get(base_url, params=params)).json()\n",
    "\n",
    "    try:\n",
    "        hotel_df.loc[index, \"Hotel Name\"] = hotel_loc[\"results\"][0][\"name\"]\n",
    "    except (KeyError, IndexError):\n",
    "        print(\"No hotels here...skipping city\")"
   ]
  },
  {
   "cell_type": "code",
   "execution_count": 12,
   "metadata": {},
   "outputs": [
    {
     "output_type": "execute_result",
     "data": {
      "text/plain": "   index  Unnamed: 0       City Country    Lat    Long  Max Temp  Humidity  \\\n0    153         153     kalabo      ZM -14.97   22.68     69.80        23   \n1    435         435    zambezi      ZM -13.54   23.10     71.58        22   \n2    446         446   baherden      TM  38.44   57.43     76.46        18   \n3    494         494    birjand      IR  32.87   59.22     69.80        19   \n4    497         497  katherine      AU -14.47  132.27     66.20        45   \n\n   Cloudiness  Wind Speed        Date  \\\n0           0        5.30  1599419416   \n1           0        8.95  1599419484   \n2           0        9.66  1599419486   \n3           0        6.93  1599419499   \n4           0        5.82  1599419499   \n\n                                   Hotel Name  \n0  Sikakubete Guest House Kalabo Town Council  \n1                       Royal Kutachika Lodge  \n2                                              \n3                                 Ghaem Hotel  \n4                            Beagle Motor Inn  ",
      "text/html": "<div>\n<style scoped>\n    .dataframe tbody tr th:only-of-type {\n        vertical-align: middle;\n    }\n\n    .dataframe tbody tr th {\n        vertical-align: top;\n    }\n\n    .dataframe thead th {\n        text-align: right;\n    }\n</style>\n<table border=\"1\" class=\"dataframe\">\n  <thead>\n    <tr style=\"text-align: right;\">\n      <th></th>\n      <th>index</th>\n      <th>Unnamed: 0</th>\n      <th>City</th>\n      <th>Country</th>\n      <th>Lat</th>\n      <th>Long</th>\n      <th>Max Temp</th>\n      <th>Humidity</th>\n      <th>Cloudiness</th>\n      <th>Wind Speed</th>\n      <th>Date</th>\n      <th>Hotel Name</th>\n    </tr>\n  </thead>\n  <tbody>\n    <tr>\n      <th>0</th>\n      <td>153</td>\n      <td>153</td>\n      <td>kalabo</td>\n      <td>ZM</td>\n      <td>-14.97</td>\n      <td>22.68</td>\n      <td>69.80</td>\n      <td>23</td>\n      <td>0</td>\n      <td>5.30</td>\n      <td>1599419416</td>\n      <td>Sikakubete Guest House Kalabo Town Council</td>\n    </tr>\n    <tr>\n      <th>1</th>\n      <td>435</td>\n      <td>435</td>\n      <td>zambezi</td>\n      <td>ZM</td>\n      <td>-13.54</td>\n      <td>23.10</td>\n      <td>71.58</td>\n      <td>22</td>\n      <td>0</td>\n      <td>8.95</td>\n      <td>1599419484</td>\n      <td>Royal Kutachika Lodge</td>\n    </tr>\n    <tr>\n      <th>2</th>\n      <td>446</td>\n      <td>446</td>\n      <td>baherden</td>\n      <td>TM</td>\n      <td>38.44</td>\n      <td>57.43</td>\n      <td>76.46</td>\n      <td>18</td>\n      <td>0</td>\n      <td>9.66</td>\n      <td>1599419486</td>\n      <td></td>\n    </tr>\n    <tr>\n      <th>3</th>\n      <td>494</td>\n      <td>494</td>\n      <td>birjand</td>\n      <td>IR</td>\n      <td>32.87</td>\n      <td>59.22</td>\n      <td>69.80</td>\n      <td>19</td>\n      <td>0</td>\n      <td>6.93</td>\n      <td>1599419499</td>\n      <td>Ghaem Hotel</td>\n    </tr>\n    <tr>\n      <th>4</th>\n      <td>497</td>\n      <td>497</td>\n      <td>katherine</td>\n      <td>AU</td>\n      <td>-14.47</td>\n      <td>132.27</td>\n      <td>66.20</td>\n      <td>45</td>\n      <td>0</td>\n      <td>5.82</td>\n      <td>1599419499</td>\n      <td>Beagle Motor Inn</td>\n    </tr>\n  </tbody>\n</table>\n</div>"
     },
     "metadata": {},
     "execution_count": 12
    }
   ],
   "source": [
    "# NOTE: Do not change any of the code in this cell\n",
    "\n",
    "# Using the template add the hotel marks to the heatmap\n",
    "info_box_template = \"\"\"\n",
    "<dl>\n",
    "<dt>Name</dt><dd>{Hotel Name}</dd>\n",
    "<dt>City</dt><dd>{City}</dd>\n",
    "<dt>Country</dt><dd>{Country}</dd>\n",
    "</dl>\n",
    "\"\"\"\n",
    "# Store the DataFrame Row\n",
    "# NOTE: be sure to update with your DataFrame name\n",
    "hotel_info = [info_box_template.format(**row) for index, row in hotel_df.iterrows()]\n",
    "hotel_df.head()"
   ]
  },
  {
   "cell_type": "code",
   "execution_count": 23,
   "metadata": {},
   "outputs": [
    {
     "output_type": "display_data",
     "data": {
      "text/plain": "Figure(layout=FigureLayout(height='600px', margin='0 auto 0 auto', width='800px'))",
      "application/vnd.jupyter.widget-view+json": {
       "version_major": 2,
       "version_minor": 0,
       "model_id": "e3a8f78f1541464da0376ee37e01010e"
      }
     },
     "metadata": {}
    }
   ],
   "source": [
    "locations = hotel_df[[\"Lat\", \"Long\"]]\n",
    "humidity_locations = weather_df[[\"Lat\", \"Long\"]]\n",
    "humidity = weather_df[\"Humidity\"].astype(float)\n",
    "\n",
    "# Add marker layer ontop of heat map\n",
    "# plot heatmap\n",
    "figure_layout = {\n",
    "    'width': '800px',\n",
    "    'height': '600px',\n",
    "    'margin': '0 auto 0 auto'\n",
    "}\n",
    "fig = gmaps.figure(layout=figure_layout,zoom_level=1.55,center=(15,50))\n",
    "# create hotel marker layer\n",
    "hotel_layer = gmaps.marker_layer(locations, info_box_content=[info_box_template.format(**row) for index, row in hotel_df.iterrows()])\n",
    "\n",
    "#add hotel layer to map\n",
    "fig.add_layer(hotel_layer)\n",
    "\n",
    "#create heat layer\n",
    "heat_layer = gmaps.heatmap_layer(humidity_locations, weights=humidity, dissipating=False, max_intensity=100, point_radius=5)\n",
    "\n",
    "#add heat layer\n",
    "fig.add_layer(heat_layer)\n",
    "\n",
    "#display\n",
    "fig"
   ]
  },
  {
   "cell_type": "code",
   "execution_count": null,
   "metadata": {},
   "outputs": [],
   "source": []
  }
 ],
 "metadata": {
  "kernelspec": {
   "display_name": "Python 3.7.6 64-bit ('base': conda)",
   "language": "python",
   "name": "python_defaultSpec_1599606552745"
  },
  "language_info": {
   "codemirror_mode": {
    "name": "ipython",
    "version": 3
   },
   "file_extension": ".py",
   "mimetype": "text/x-python",
   "name": "python",
   "nbconvert_exporter": "python",
   "pygments_lexer": "ipython3",
   "version": "3.7.6-final"
  },
  "latex_envs": {
   "LaTeX_envs_menu_present": true,
   "autoclose": false,
   "autocomplete": true,
   "bibliofile": "biblio.bib",
   "cite_by": "apalike",
   "current_citInitial": 1,
   "eqLabelWithNumbers": true,
   "eqNumInitial": 1,
   "hotkeys": {
    "equation": "Ctrl-E",
    "itemize": "Ctrl-I"
   },
   "labels_anchors": false,
   "latex_user_defs": false,
   "report_style_numbering": false,
   "user_envs_cfg": false
  }
 },
 "nbformat": 4,
 "nbformat_minor": 4
}