{
 "cells": [
  {
   "cell_type": "markdown",
   "metadata": {},
   "source": [
    "# VacationPy\n",
    "----\n",
    "\n",
    "#### Note\n",
    "* Keep an eye on your API usage. Use https://developers.google.com/maps/reporting/gmp-reporting as reference for how to monitor your usage and billing.\n",
    "\n",
    "* Instructions have been included for each segment. You do not have to follow them exactly, but they are included to help you think through the steps."
   ]
  },
  {
   "cell_type": "code",
   "execution_count": 38,
   "metadata": {},
   "outputs": [],
   "source": [
    "# Dependencies\n",
    "import gmaps\n",
    "import pandas as pd\n",
    "from matplotlib import pyplot as plt\n",
    "import pandas as pd\n",
    "import scipy.stats as st\n",
    "import numpy as np\n",
    "from scipy.stats import linregress\n",
    "import requests\n",
    "from citipy import citipy\n",
    "import time\n",
    "import os\n",
    "\n",
    "from config import gkey\n",
    "gmaps.configure(api_key=gkey)\n",
    "from config import weather_api_key"
   ]
  },
  {
   "cell_type": "markdown",
   "metadata": {},
   "source": [
    "### Store Part I results into DataFrame\n",
    "* Load the csv exported in Part I to a DataFrame"
   ]
  },
  {
   "cell_type": "code",
   "execution_count": 39,
   "metadata": {},
   "outputs": [
    {
     "output_type": "execute_result",
     "data": {
      "text/plain": "   Unnamed: 0          City    Lat    Long  Max Temp  Humidity  Cloudiness  \\\n0           0        palmer  42.16  -72.33     77.00        36          20   \n1           1   mys shmidta  62.06   48.62     48.47        95          69   \n2           2         bluff -46.60  168.33     45.00        72           1   \n3           3  beringovskiy  63.05  179.32     46.54        69         100   \n4           4  norman wells  35.22  -97.44     89.01        52          40   \n\n   Wind Speed        Date  \n0       11.41  1599259935  \n1        5.26  1599259997  \n2       11.01  1599259756  \n3       14.99  1599259997  \n4        8.05  1599259997  ",
      "text/html": "<div>\n<style scoped>\n    .dataframe tbody tr th:only-of-type {\n        vertical-align: middle;\n    }\n\n    .dataframe tbody tr th {\n        vertical-align: top;\n    }\n\n    .dataframe thead th {\n        text-align: right;\n    }\n</style>\n<table border=\"1\" class=\"dataframe\">\n  <thead>\n    <tr style=\"text-align: right;\">\n      <th></th>\n      <th>Unnamed: 0</th>\n      <th>City</th>\n      <th>Lat</th>\n      <th>Long</th>\n      <th>Max Temp</th>\n      <th>Humidity</th>\n      <th>Cloudiness</th>\n      <th>Wind Speed</th>\n      <th>Date</th>\n    </tr>\n  </thead>\n  <tbody>\n    <tr>\n      <th>0</th>\n      <td>0</td>\n      <td>palmer</td>\n      <td>42.16</td>\n      <td>-72.33</td>\n      <td>77.00</td>\n      <td>36</td>\n      <td>20</td>\n      <td>11.41</td>\n      <td>1599259935</td>\n    </tr>\n    <tr>\n      <th>1</th>\n      <td>1</td>\n      <td>mys shmidta</td>\n      <td>62.06</td>\n      <td>48.62</td>\n      <td>48.47</td>\n      <td>95</td>\n      <td>69</td>\n      <td>5.26</td>\n      <td>1599259997</td>\n    </tr>\n    <tr>\n      <th>2</th>\n      <td>2</td>\n      <td>bluff</td>\n      <td>-46.60</td>\n      <td>168.33</td>\n      <td>45.00</td>\n      <td>72</td>\n      <td>1</td>\n      <td>11.01</td>\n      <td>1599259756</td>\n    </tr>\n    <tr>\n      <th>3</th>\n      <td>3</td>\n      <td>beringovskiy</td>\n      <td>63.05</td>\n      <td>179.32</td>\n      <td>46.54</td>\n      <td>69</td>\n      <td>100</td>\n      <td>14.99</td>\n      <td>1599259997</td>\n    </tr>\n    <tr>\n      <th>4</th>\n      <td>4</td>\n      <td>norman wells</td>\n      <td>35.22</td>\n      <td>-97.44</td>\n      <td>89.01</td>\n      <td>52</td>\n      <td>40</td>\n      <td>8.05</td>\n      <td>1599259997</td>\n    </tr>\n  </tbody>\n</table>\n</div>"
     },
     "metadata": {},
     "execution_count": 39
    }
   ],
   "source": [
    "weather_csv = \"../output_data/weather_df.csv\"\n",
    "weather_df = pd.read_csv(weather_csv)\n",
    "weather_df.head()"
   ]
  },
  {
   "cell_type": "markdown",
   "metadata": {},
   "source": [
    "### Humidity Heatmap\n",
    "* Configure gmaps.\n",
    "* Use the Lat and Lng as locations and Humidity as the weight.\n",
    "* Add Heatmap layer to map."
   ]
  },
  {
   "cell_type": "code",
   "execution_count": 40,
   "metadata": {},
   "outputs": [],
   "source": [
    "# store values\n",
    "locations = weather_df[[\"Lat\", \"Long\"]]\n",
    "humidity = weather_df[\"Humidity\"].astype(float)"
   ]
  },
  {
   "cell_type": "code",
   "execution_count": 58,
   "metadata": {},
   "outputs": [
    {
     "output_type": "display_data",
     "data": {
      "text/plain": "Figure(layout=FigureLayout(height='420px'))",
      "application/vnd.jupyter.widget-view+json": {
       "version_major": 2,
       "version_minor": 0,
       "model_id": "6e696c29a1ce4cd2b949a2c5db506749"
      }
     },
     "metadata": {}
    }
   ],
   "source": [
    "# plot heatmap\n",
    "fig = gmaps.figure()\n",
    "\n",
    "# create layer\n",
    "heat_layer = gmaps.heatmap_layer(locations, weights=humidity, dissipating=False, max_intensity=200, point_radius=5)\n",
    "\n",
    "#add layer to map\n",
    "fig.add_layer(heat_layer)\n",
    "\n",
    "#display\n",
    "fig"
   ]
  },
  {
   "cell_type": "markdown",
   "metadata": {},
   "source": [
    "### Create new DataFrame fitting weather criteria\n",
    "* Narrow down the cities to fit weather conditions.\n",
    "* Drop any rows will null values."
   ]
  },
  {
   "cell_type": "code",
   "execution_count": 65,
   "metadata": {},
   "outputs": [],
   "source": [
    "ideal_df = weather_df.loc[(weather_df[\"Max Temp\"] > 65) & (weather_df['Max Temp'] < 77) & (weather_df[\"Cloudiness\"] == 0) & (weather_df['Humidity'] < 50) &(weather_df['Wind Speed'] < 15), :]"
   ]
  },
  {
   "cell_type": "code",
   "execution_count": 66,
   "metadata": {},
   "outputs": [],
   "source": [
    "ideal_df = ideal_df.dropna(how = 'any')"
   ]
  },
  {
   "cell_type": "code",
   "execution_count": 67,
   "metadata": {},
   "outputs": [
    {
     "output_type": "execute_result",
     "data": {
      "text/plain": "   index  Unnamed: 0          City    Lat    Long  Max Temp  Humidity  \\\n0     47          47          faya  18.39   42.45     68.00        30   \n1    120         120         korla  41.76   86.15     73.00        45   \n2    307         307         airai  -8.93  125.41     65.08        42   \n3    312         312  komsomolskiy  40.43   71.72     66.20        48   \n4    376         376        kentau  43.52   68.51     65.03        26   \n\n   Cloudiness  Wind Speed        Date  \n0           0        5.35  1599259983  \n1           0        1.99  1599259924  \n2           0        3.38  1599260082  \n3           0        6.93  1599260104  \n4           0       10.92  1599260118  ",
      "text/html": "<div>\n<style scoped>\n    .dataframe tbody tr th:only-of-type {\n        vertical-align: middle;\n    }\n\n    .dataframe tbody tr th {\n        vertical-align: top;\n    }\n\n    .dataframe thead th {\n        text-align: right;\n    }\n</style>\n<table border=\"1\" class=\"dataframe\">\n  <thead>\n    <tr style=\"text-align: right;\">\n      <th></th>\n      <th>index</th>\n      <th>Unnamed: 0</th>\n      <th>City</th>\n      <th>Lat</th>\n      <th>Long</th>\n      <th>Max Temp</th>\n      <th>Humidity</th>\n      <th>Cloudiness</th>\n      <th>Wind Speed</th>\n      <th>Date</th>\n    </tr>\n  </thead>\n  <tbody>\n    <tr>\n      <th>0</th>\n      <td>47</td>\n      <td>47</td>\n      <td>faya</td>\n      <td>18.39</td>\n      <td>42.45</td>\n      <td>68.00</td>\n      <td>30</td>\n      <td>0</td>\n      <td>5.35</td>\n      <td>1599259983</td>\n    </tr>\n    <tr>\n      <th>1</th>\n      <td>120</td>\n      <td>120</td>\n      <td>korla</td>\n      <td>41.76</td>\n      <td>86.15</td>\n      <td>73.00</td>\n      <td>45</td>\n      <td>0</td>\n      <td>1.99</td>\n      <td>1599259924</td>\n    </tr>\n    <tr>\n      <th>2</th>\n      <td>307</td>\n      <td>307</td>\n      <td>airai</td>\n      <td>-8.93</td>\n      <td>125.41</td>\n      <td>65.08</td>\n      <td>42</td>\n      <td>0</td>\n      <td>3.38</td>\n      <td>1599260082</td>\n    </tr>\n    <tr>\n      <th>3</th>\n      <td>312</td>\n      <td>312</td>\n      <td>komsomolskiy</td>\n      <td>40.43</td>\n      <td>71.72</td>\n      <td>66.20</td>\n      <td>48</td>\n      <td>0</td>\n      <td>6.93</td>\n      <td>1599260104</td>\n    </tr>\n    <tr>\n      <th>4</th>\n      <td>376</td>\n      <td>376</td>\n      <td>kentau</td>\n      <td>43.52</td>\n      <td>68.51</td>\n      <td>65.03</td>\n      <td>26</td>\n      <td>0</td>\n      <td>10.92</td>\n      <td>1599260118</td>\n    </tr>\n  </tbody>\n</table>\n</div>"
     },
     "metadata": {},
     "execution_count": 67
    }
   ],
   "source": [
    "ideal_df.reset_index(inplace=True)\n",
    "ideal_df.head()"
   ]
  },
  {
   "cell_type": "markdown",
   "metadata": {},
   "source": [
    "### Hotel Map\n",
    "* Store into variable named `hotel_df`.\n",
    "* Add a \"Hotel Name\" column to the DataFrame.\n",
    "* Set parameters to search for hotels with 5000 meters.\n",
    "* Hit the Google Places API for each city's coordinates.\n",
    "* Store the first Hotel result into the DataFrame.\n",
    "* Plot markers on top of the heatmap."
   ]
  },
  {
   "cell_type": "code",
   "execution_count": null,
   "metadata": {},
   "outputs": [],
   "source": []
  },
  {
   "cell_type": "code",
   "execution_count": null,
   "metadata": {},
   "outputs": [],
   "source": []
  },
  {
   "cell_type": "code",
   "execution_count": 45,
   "metadata": {},
   "outputs": [
    {
     "output_type": "error",
     "ename": "NameError",
     "evalue": "name 'hotel_df' is not defined",
     "traceback": [
      "\u001b[1;31m---------------------------------------------------------------------------\u001b[0m",
      "\u001b[1;31mNameError\u001b[0m                                 Traceback (most recent call last)",
      "\u001b[1;32m<ipython-input-45-464b2b3e63ad>\u001b[0m in \u001b[0;36m<module>\u001b[1;34m\u001b[0m\n\u001b[0;32m     11\u001b[0m \u001b[1;31m# Store the DataFrame Row\u001b[0m\u001b[1;33m\u001b[0m\u001b[1;33m\u001b[0m\u001b[1;33m\u001b[0m\u001b[0m\n\u001b[0;32m     12\u001b[0m \u001b[1;31m# NOTE: be sure to update with your DataFrame name\u001b[0m\u001b[1;33m\u001b[0m\u001b[1;33m\u001b[0m\u001b[1;33m\u001b[0m\u001b[0m\n\u001b[1;32m---> 13\u001b[1;33m \u001b[0mhotel_info\u001b[0m \u001b[1;33m=\u001b[0m \u001b[1;33m[\u001b[0m\u001b[0minfo_box_template\u001b[0m\u001b[1;33m.\u001b[0m\u001b[0mformat\u001b[0m\u001b[1;33m(\u001b[0m\u001b[1;33m**\u001b[0m\u001b[0mrow\u001b[0m\u001b[1;33m)\u001b[0m \u001b[1;32mfor\u001b[0m \u001b[0mindex\u001b[0m\u001b[1;33m,\u001b[0m \u001b[0mrow\u001b[0m \u001b[1;32min\u001b[0m \u001b[0mhotel_df\u001b[0m\u001b[1;33m.\u001b[0m\u001b[0miterrows\u001b[0m\u001b[1;33m(\u001b[0m\u001b[1;33m)\u001b[0m\u001b[1;33m]\u001b[0m\u001b[1;33m\u001b[0m\u001b[1;33m\u001b[0m\u001b[0m\n\u001b[0m\u001b[0;32m     14\u001b[0m \u001b[0mlocations\u001b[0m \u001b[1;33m=\u001b[0m \u001b[0mhotel_df\u001b[0m\u001b[1;33m[\u001b[0m\u001b[1;33m[\u001b[0m\u001b[1;34m\"Lat\"\u001b[0m\u001b[1;33m,\u001b[0m \u001b[1;34m\"Lng\"\u001b[0m\u001b[1;33m]\u001b[0m\u001b[1;33m]\u001b[0m\u001b[1;33m\u001b[0m\u001b[1;33m\u001b[0m\u001b[0m\n",
      "\u001b[1;31mNameError\u001b[0m: name 'hotel_df' is not defined"
     ]
    }
   ],
   "source": [
    "# NOTE: Do not change any of the code in this cell\n",
    "\n",
    "# Using the template add the hotel marks to the heatmap\n",
    "info_box_template = \"\"\"\n",
    "<dl>\n",
    "<dt>Name</dt><dd>{Hotel Name}</dd>\n",
    "<dt>City</dt><dd>{City}</dd>\n",
    "<dt>Country</dt><dd>{Country}</dd>\n",
    "</dl>\n",
    "\"\"\"\n",
    "# Store the DataFrame Row\n",
    "# NOTE: be sure to update with your DataFrame name\n",
    "hotel_info = [info_box_template.format(**row) for index, row in hotel_df.iterrows()]\n",
    "locations = hotel_df[[\"Lat\", \"Lng\"]]"
   ]
  },
  {
   "cell_type": "code",
   "execution_count": 46,
   "metadata": {},
   "outputs": [],
   "source": [
    "# Add marker layer ontop of heat map\n",
    "\n",
    "\n",
    "# Display figure\n"
   ]
  },
  {
   "cell_type": "code",
   "execution_count": null,
   "metadata": {},
   "outputs": [],
   "source": []
  }
 ],
 "metadata": {
  "kernelspec": {
   "display_name": "Python 3.7.6 64-bit ('base': conda)",
   "language": "python",
   "name": "python_defaultSpec_1599413339884"
  },
  "language_info": {
   "codemirror_mode": {
    "name": "ipython",
    "version": 3
   },
   "file_extension": ".py",
   "mimetype": "text/x-python",
   "name": "python",
   "nbconvert_exporter": "python",
   "pygments_lexer": "ipython3",
   "version": "3.7.6-final"
  },
  "latex_envs": {
   "LaTeX_envs_menu_present": true,
   "autoclose": false,
   "autocomplete": true,
   "bibliofile": "biblio.bib",
   "cite_by": "apalike",
   "current_citInitial": 1,
   "eqLabelWithNumbers": true,
   "eqNumInitial": 1,
   "hotkeys": {
    "equation": "Ctrl-E",
    "itemize": "Ctrl-I"
   },
   "labels_anchors": false,
   "latex_user_defs": false,
   "report_style_numbering": false,
   "user_envs_cfg": false
  }
 },
 "nbformat": 4,
 "nbformat_minor": 4
}